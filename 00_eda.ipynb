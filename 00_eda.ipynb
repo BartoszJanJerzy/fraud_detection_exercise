{
 "cells": [
  {
   "cell_type": "markdown",
   "id": "4ef275dc-1f21-4ab4-9269-3fb1c6832f49",
   "metadata": {
    "jp-MarkdownHeadingCollapsed": true
   },
   "source": [
    "# Requirements"
   ]
  },
  {
   "cell_type": "code",
   "execution_count": null,
   "id": "d632aed9-72e3-4e66-bf99-692ad59c2594",
   "metadata": {},
   "outputs": [],
   "source": [
    "import subprocess\n",
    "reqs = open(\"requirements.txt\", \"r\").read().split('\\n')\n",
    "print(\"Installing: \", reqs)\n",
    "subprocess.run([\"py\", \"-m\", \"pip\", \"install\", \"uv\"])\n",
    "for x in reqs: \n",
    "    subprocess.run([\"py\", \"-m\", \"uv\", \"pip\", \"install\", x])"
   ]
  },
  {
   "cell_type": "markdown",
   "id": "a1afab9c-8e38-4de2-8bec-e24ea5d434ae",
   "metadata": {},
   "source": [
    "# Imports"
   ]
  },
  {
   "cell_type": "code",
   "execution_count": null,
   "id": "ee4f5e50-fb3f-4441-97ce-59dc72543eec",
   "metadata": {},
   "outputs": [],
   "source": [
    "import pyspark.sql.functions as spark_func\n",
    "from pyspark.sql import SparkSession, Row, DataFrame\n",
    "from pyspark.ml.feature import VectorAssembler, StandardScaler, StringIndexer, OneHotEncoder\n",
    "\n",
    "import json\n",
    "import pprint\n",
    "import numpy as np\n",
    "from IPython.core.display import HTML\n",
    "from IPython.display import display\n",
    "\n",
    "import plotly.graph_objects as go\n",
    "import plotly.express as px\n",
    "from plotly.subplots import make_subplots"
   ]
  },
  {
   "cell_type": "code",
   "execution_count": null,
   "id": "e0554e59-668c-4e18-9403-f854e78e4825",
   "metadata": {},
   "outputs": [],
   "source": [
    "display(HTML(\"<style>.container { width:100% !important; }</style>\"))"
   ]
  },
  {
   "cell_type": "markdown",
   "id": "c96290a2-a9d8-47b9-b8d7-ba7bc3e83dcd",
   "metadata": {},
   "source": [
    "# Spark Session"
   ]
  },
  {
   "cell_type": "code",
   "execution_count": null,
   "id": "d547b1b1-0a1c-48b7-b3e6-7d047399090e",
   "metadata": {},
   "outputs": [],
   "source": [
    "spark = SparkSession.builder.appName(\"EDA\").getOrCreate()\n",
    "spark"
   ]
  },
  {
   "cell_type": "markdown",
   "id": "a3034543-dd40-4e66-bb54-7b54bbf06a09",
   "metadata": {},
   "source": [
    "# Create dataframes"
   ]
  },
  {
   "cell_type": "code",
   "execution_count": null,
   "id": "7a30cab4-eac1-4d8e-a926-05c023a46e37",
   "metadata": {},
   "outputs": [],
   "source": [
    "train_df = spark.read.option(\"header\", True).csv(\"resources/fraudTrain.csv\")\n",
    "display(HTML(\"<style>pre { white-space: pre !important; }</style>\"))\n",
    "train_df.show()"
   ]
  },
  {
   "cell_type": "code",
   "execution_count": null,
   "id": "d9af339f-e54d-41b0-a2d7-4543a0ef9491",
   "metadata": {},
   "outputs": [],
   "source": [
    "test_df = spark.read.option(\"header\", True).csv(\"resources/fraudTest.csv\")\n",
    "test_df.show()"
   ]
  },
  {
   "cell_type": "markdown",
   "id": "500de1b7-44f5-40b1-9376-c9a3a9cc3408",
   "metadata": {},
   "source": [
    "# EDA on training data\n",
    "\n",
    "## Columns\n",
    "- index - Unique Identifier for each row\n",
    "\n",
    "**Trasactions**\n",
    "- trans_date_trans_time - Transaction DateTime\n",
    "- amt - Amount of Transaction\n",
    "- trans_num - Transaction Number\n",
    "- unix_time - UNIX Time of transaction\n",
    "\n",
    "**Personal**\n",
    "- first - First Name of Credit Card Holder\n",
    "- last - Last Name of Credit Card Holder\n",
    "- gender - Gender of Credit Card Holder\n",
    "- cc_num - Credit Card Number of Customer\n",
    "- job - Job of Credit Card Holder\n",
    "- dob - Date of Birth of Credit Card Holder\n",
    "\n",
    "**Adress**\n",
    "- street - Street Address of Credit Card Holder\n",
    "- city - City of Credit Card Holder\n",
    "- state - State of Credit Card Holder\n",
    "- zip - Zip of Credit Card Holder\n",
    "- lat - Latitude Location of Credit Card Holder\n",
    "- long - Longitude Location of Credit Card Holder\n",
    "- city_pop - Credit Card Holder's City Population\n",
    "\n",
    "**Merchant**\n",
    "- merchant - Merchant Name\n",
    "- category - Category of Merchant\n",
    "- merch_lat - Latitude Location of Merchant\n",
    "- merch_long - Longitude Location of Merchant\n",
    "\n",
    "**Target**\n",
    "- is_fraud - Fraud Flag <--- Target Class"
   ]
  },
  {
   "cell_type": "markdown",
   "id": "169b466b-637d-4b46-bf64-6a89f4645084",
   "metadata": {},
   "source": [
    "## New features\n",
    "**Transactions**\n",
    "- year, month, day, hour, miute (datetime)\n",
    "- amt_even (power = 0.25)\n",
    "- amt diff between mean merchant amt\n",
    "- amt diff between mean category amt\n",
    "- amt diff between mean gender amt\n",
    "- amt diff between mean city amt\n",
    "- amt diff between mean street amt\n",
    "\n",
    "**Merchant**\n",
    "- merchant levels (risks 0, 1, 2)\n",
    "- category one hot encoding\n",
    "- category high risk\n",
    "- historical merchant fraud\n",
    "- historicla category fraud\n",
    "\n",
    "**Personal**\n",
    "- gender one hot\n",
    "- city_pop"
   ]
  },
  {
   "cell_type": "markdown",
   "id": "030cde3c-02cb-4d17-b1ec-a9589bc0fb7f",
   "metadata": {},
   "source": [
    "## Target feature `is_fraud`"
   ]
  },
  {
   "cell_type": "code",
   "execution_count": null,
   "id": "aa813f1f-b159-4a40-8b67-e5d12a10e74d",
   "metadata": {},
   "outputs": [],
   "source": [
    "train_df = train_df.withColumn(\"is_fraud\", spark_func.col(\"is_fraud\").cast(\"int\")) \n",
    "non_fraud_records = train_df.where(spark_func.col(\"is_fraud\") == 0).count()\n",
    "fraud_records = train_df.where(spark_func.col(\"is_fraud\") == 1).count()\n",
    "print(f\"Non-fraud = {non_fraud_records}\\nFraud = {fraud_records}\\nFraud ratio = {round(fraud_records / train_df.count(), 3)}\")"
   ]
  },
  {
   "cell_type": "markdown",
   "id": "055b5d99-c1f3-4220-b7e4-9dc4af6f36fa",
   "metadata": {
    "jp-MarkdownHeadingCollapsed": true
   },
   "source": [
    "## Transaction date\n",
    "- histograms do not show any outliers\n",
    "- significant increase in fraud ratio in night hours (from 10 p.m to 3 a.m.)"
   ]
  },
  {
   "cell_type": "code",
   "execution_count": null,
   "id": "99482c3e-cbb2-4201-a432-a0fd051a7165",
   "metadata": {},
   "outputs": [],
   "source": [
    "def add_date_features(dataframe):\n",
    "    dataframe = dataframe.withColumn(\n",
    "        \"date\",\n",
    "        spark_func.to_date(dataframe[\"trans_date_trans_time\"], \"yyyy-MM-dd HH:mm:ss\")\n",
    "    )\n",
    "    dataframe = (\n",
    "        dataframe\n",
    "        .withColumn(\"year\", spark_func.year(dataframe[\"date\"]))\n",
    "        .withColumn(\"month\", spark_func.month(dataframe[\"date\"]))\n",
    "        .withColumn(\"day\", spark_func.day(dataframe[\"date\"]))\n",
    "        .withColumn(\"hour\", spark_func.day(dataframe[\"date\"]))\n",
    "    )\n",
    "    dataframe = dataframe.withColumn(\n",
    "        \"hour\",\n",
    "        spark_func.hour(\n",
    "            spark_func.to_timestamp(dataframe[\"trans_date_trans_time\"], \"yyyy-MM-dd HH:mm:ss\")\n",
    "        )\n",
    "    )\n",
    "    dataframe = dataframe.withColumn(\n",
    "        \"minute\",\n",
    "        spark_func.minute(\n",
    "            spark_func.to_timestamp(dataframe[\"trans_date_trans_time\"], \"yyyy-MM-dd HH:mm:ss\")\n",
    "        )\n",
    "    )\n",
    "    return dataframe"
   ]
  },
  {
   "cell_type": "code",
   "execution_count": null,
   "id": "41f01dab-af84-41e2-8d22-b0bf2453125d",
   "metadata": {},
   "outputs": [],
   "source": [
    "train_df = add_date_features(train_df)"
   ]
  },
  {
   "cell_type": "code",
   "execution_count": null,
   "id": "8c84beb8-4bef-4979-be38-04798122f2bc",
   "metadata": {
    "editable": true,
    "slideshow": {
     "slide_type": ""
    },
    "tags": []
   },
   "outputs": [],
   "source": [
    "graph_data = train_df.select(\"date\", \"year\", \"month\", \"day\", \"hour\", \"minute\", \"is_fraud\").toPandas()\n",
    "graph_data[\"is_fraud\"] = graph_data[\"is_fraud\"].astype(int)\n",
    "\n",
    "\n",
    "for i, col in enumerate([\"year\", \"month\", \"day\", \"hour\", \"minute\"]):\n",
    "    current_df = graph_data.groupby(col).agg({\"is_fraud\": \"mean\"}).reset_index()\n",
    "    current_df[\"is_fraud_text\"] = current_df[\"is_fraud\"].apply(lambda x: str(round(x*100, 2)) + \"%\")\n",
    "\n",
    "    fig = make_subplots(\n",
    "        cols=1, \n",
    "        rows=2,\n",
    "        subplot_titles=(\"Histogram\", \"Fraud ratio\")\n",
    "    )\n",
    "    fig.add_trace(\n",
    "        go.Histogram(\n",
    "            x=graph_data[col],\n",
    "            xbins=dict(size=1)\n",
    "        ),\n",
    "        col=1,\n",
    "        row=1\n",
    "    )\n",
    "    fig.add_trace(\n",
    "        go.Bar(\n",
    "            x=current_df[col].to_list(),\n",
    "            y=(current_df[\"is_fraud\"]).to_list(),\n",
    "            text=current_df[\"is_fraud_text\"]\n",
    "        ),\n",
    "        col=1,\n",
    "        row=2\n",
    "    )\n",
    "    fig.update_layout(\n",
    "        title=f\"<b>Feature: {col}</b>\",\n",
    "        height=600,\n",
    "        width=1000,\n",
    "    )\n",
    "    fig.show()"
   ]
  },
  {
   "cell_type": "markdown",
   "id": "156d6bab-1e2a-41f8-84d3-dc9592d8d0d2",
   "metadata": {},
   "source": [
    "## Merchant & merchant category"
   ]
  },
  {
   "cell_type": "code",
   "execution_count": null,
   "id": "8ea45b07-e8b4-4264-82f6-237c97c63fb0",
   "metadata": {},
   "outputs": [],
   "source": [
    "m = train_df.select(\"merchant\").distinct().count()\n",
    "c = train_df.select(\"category\").distinct().count()\n",
    "total = train_df.count()\n",
    "print(f\"Toal train rows = {total}\\nMerchant unique values: {m}\\nMerchant category unique values = {c}\")"
   ]
  },
  {
   "cell_type": "code",
   "execution_count": null,
   "id": "16ca633c-2e7b-48ae-b0dd-78bb9669232e",
   "metadata": {},
   "outputs": [],
   "source": [
    "graph_data = train_df.select(\"merchant\", \"category\", \"is_fraud\").toPandas()\n",
    "graph_data[\"is_fraud\"] = graph_data[\"is_fraud\"].astype(int)\n",
    "graph_data"
   ]
  },
  {
   "cell_type": "markdown",
   "id": "6025c0cb-30f6-4706-9a28-552711257f7b",
   "metadata": {},
   "source": [
    "### Merchant\n",
    "- `meracht_lvl_0 / 1 / 2` - a category of merchat due to the fraud frquency\n",
    "- `merchant_fraud_history` - hisotrical fraud ratio"
   ]
  },
  {
   "cell_type": "code",
   "execution_count": null,
   "id": "a6a2a544-8cd3-42b9-8f5d-8cb604b5b8ce",
   "metadata": {},
   "outputs": [],
   "source": [
    "current_df = graph_data.groupby(\"merchant\").agg({\"is_fraud\": \"mean\"}).reset_index().sort_values(\"is_fraud\", ascending=False)"
   ]
  },
  {
   "cell_type": "code",
   "execution_count": null,
   "id": "bd919794-2760-4920-8e1c-9e5422331ba7",
   "metadata": {},
   "outputs": [],
   "source": [
    "px.bar(\n",
    "    current_df,\n",
    "    x=\"merchant\",\n",
    "    y=\"is_fraud\",\n",
    "    width=1000\n",
    ").show()"
   ]
  },
  {
   "cell_type": "code",
   "execution_count": null,
   "id": "5efad104-5c98-418c-811c-703b5b4c3ff4",
   "metadata": {},
   "outputs": [],
   "source": [
    "def add_merchant_level(dataframe, lvl0_values: list[str], lvl1_values: list[str], lvl2_values: list[str]):\n",
    "    dataframe = (\n",
    "        dataframe\n",
    "        .withColumn(\"merchant_lvl_0\", spark_func.when(spark_func.col(\"merchant\").isin(lvl0_values), 1).otherwise(0))\n",
    "        .withColumn(\"merchant_lvl_1\", spark_func.when(spark_func.col(\"merchant\").isin(lvl1_values), 1).otherwise(0))\n",
    "        .withColumn(\"merchant_lvl_2\", spark_func.when(spark_func.col(\"merchant\").isin(lvl2_values), 1).otherwise(0))\n",
    "    )\n",
    "    return dataframe"
   ]
  },
  {
   "cell_type": "code",
   "execution_count": null,
   "id": "81355775-4413-4428-9c06-352be45d7dae",
   "metadata": {},
   "outputs": [],
   "source": [
    "q33 = current_df[\"is_fraud\"].quantile(0.33)\n",
    "q66 = current_df[\"is_fraud\"].quantile(0.33)\n",
    "\n",
    "lvl0_values = current_df[current_df[\"is_fraud\"] < q33][\"merchant\"].to_list()\n",
    "lvl1_values = current_df[(current_df[\"is_fraud\"] >= q33) & (current_df[\"is_fraud\"] < q66)][\"merchant\"].to_list()\n",
    "lvl2_values = current_df[current_df[\"is_fraud\"] >= q66][\"merchant\"].to_list()\n",
    "\n",
    "json.dump(lvl0_values, open(\"resources/lvl0_merchants.json\", \"w\"), indent=4)\n",
    "json.dump(lvl1_values, open(\"resources/lvl1_merchants.json\", \"w\"), indent=4)\n",
    "json.dump(lvl2_values, open(\"resources/lvl2_merchants.json\", \"w\"), indent=4)"
   ]
  },
  {
   "cell_type": "code",
   "execution_count": null,
   "id": "299dd283-899a-4d27-b798-3c5767e829e9",
   "metadata": {},
   "outputs": [],
   "source": [
    "q33 = current_df[\"is_fraud\"].quantile(0.33)\n",
    "q66 = current_df[\"is_fraud\"].quantile(0.33)\n",
    "train_df = add_merchant_level(\n",
    "    train_df,\n",
    "    lvl0_values=json.load(open(\"resources/lvl0_merchants.json\", \"r\")), \n",
    "    lvl1_values=json.load(open(\"resources/lvl1_merchants.json\", \"r\")),\n",
    "    lvl2_values=json.load(open(\"resources/lvl2_merchants.json\", \"r\"))\n",
    ")\n",
    "train_df.select(\"merchant_lvl_0\", \"merchant_lvl_1\", \"merchant_lvl_2\").show()"
   ]
  },
  {
   "cell_type": "code",
   "execution_count": null,
   "id": "033e0308-4df5-4120-a9c4-ca99cadc769f",
   "metadata": {},
   "outputs": [],
   "source": [
    "n = int(train_df.count() * 0.2)\n",
    "random_rows = train_df.orderBy(spark_func.rand()).limit(n)\n",
    "\n",
    "\n",
    "df_fraud_history = random_rows.groupby(\"merchant\").agg(spark_func.sum(\"is_fraud\").alias(\"merchant_fraud_history\"))\n",
    "train_df = train_df.join(df_fraud_history, on=\"merchant\", how=\"right\")\n",
    "train_df.count()"
   ]
  },
  {
   "cell_type": "code",
   "execution_count": null,
   "id": "c3b98f80-3401-4550-ba17-6f1ebf734a35",
   "metadata": {},
   "outputs": [],
   "source": [
    "df_fraud_history.toPandas().to_csv(\"resources/merchant_fraud_history.csv\", sep=\",\")"
   ]
  },
  {
   "cell_type": "markdown",
   "id": "b87fa5ed-e4aa-4fe7-84c0-deb2c4e8a2ff",
   "metadata": {},
   "source": [
    "### Category merchant\n",
    "- significant caterogy: caegories with high fraud ratio\n",
    "- one hot encoding for category\n",
    "- historical fraud ratio for categories"
   ]
  },
  {
   "cell_type": "code",
   "execution_count": null,
   "id": "56925b27-adb9-4062-9680-f68b946f7153",
   "metadata": {},
   "outputs": [],
   "source": [
    "current_df = graph_data.groupby(\"category\").agg({\"is_fraud\": \"mean\"}).reset_index().sort_values(\"is_fraud\", ascending=False)"
   ]
  },
  {
   "cell_type": "code",
   "execution_count": null,
   "id": "aa7786ad-1564-483d-9ce9-3300132fe9ac",
   "metadata": {},
   "outputs": [],
   "source": [
    "px.bar(\n",
    "    current_df,\n",
    "    x=\"category\",\n",
    "    y=\"is_fraud\",\n",
    "    width=1000\n",
    ").show()"
   ]
  },
  {
   "cell_type": "code",
   "execution_count": null,
   "id": "a725e669-8db3-49b1-82ae-2288335cab9c",
   "metadata": {},
   "outputs": [],
   "source": [
    "px.histogram(\n",
    "    graph_data,\n",
    "    x=\"category\",\n",
    "    width=1000\n",
    ").show()"
   ]
  },
  {
   "cell_type": "code",
   "execution_count": null,
   "id": "083d873a-e345-497c-a92a-92f01122dd1c",
   "metadata": {},
   "outputs": [],
   "source": [
    "def sig_category(dataframe, categories: list[str]):\n",
    "    return (\n",
    "        dataframe\n",
    "        .withColumn(\n",
    "            \"sig_category\",\n",
    "            spark_func.when(spark_func.col(\"category\").isin(categories), 1).otherwise(0)\n",
    "        )\n",
    "    )"
   ]
  },
  {
   "cell_type": "code",
   "execution_count": null,
   "id": "5a615af7-7af0-413c-a000-4f3d0d7272de",
   "metadata": {},
   "outputs": [],
   "source": [
    "def category_dummy(dataframe):\n",
    "    indexer = StringIndexer(inputCol=\"category\", outputCol=\"category_index\")\n",
    "    dataframe = indexer.fit(dataframe).transform(dataframe)\n",
    "    \n",
    "    encoder = OneHotEncoder(inputCol=\"category_index\", outputCol=\"category_dummy\")\n",
    "    dataframe = encoder.fit(dataframe).transform(dataframe)\n",
    "    \n",
    "    return dataframe"
   ]
  },
  {
   "cell_type": "code",
   "execution_count": null,
   "id": "533c8c61-2ee2-47c4-86e7-cf2649f3ed90",
   "metadata": {},
   "outputs": [],
   "source": [
    "train_df = sig_category(train_df, [\"grocery_pos\", \"misc_net\", \"shopping_net\"])\n",
    "train_df = category_dummy(train_df)\n",
    "train_df.select(\"sig_category\", \"category_dummy\").show(truncate=False)"
   ]
  },
  {
   "cell_type": "code",
   "execution_count": null,
   "id": "7d9510a3-b724-4671-8f73-7160fbe6cbbe",
   "metadata": {},
   "outputs": [],
   "source": [
    "n = int(train_df.count() * 0.2)\n",
    "random_rows = train_df.orderBy(spark_func.rand()).limit(n)\n",
    "\n",
    "\n",
    "df_fraud_history = random_rows.groupby(\"category\").agg(spark_func.sum(\"is_fraud\").alias(\"category_fraud_history\"))\n",
    "train_df = train_df.join(df_fraud_history, on=\"category\", how=\"right\")\n",
    "train_df.count()"
   ]
  },
  {
   "cell_type": "code",
   "execution_count": null,
   "id": "c60a3038-fe76-47f8-9b9c-5ee631657774",
   "metadata": {},
   "outputs": [],
   "source": [
    "df_fraud_history.toPandas().to_csv(\"resources/categories_fraud_history.csv\", sep=\",\")"
   ]
  },
  {
   "cell_type": "markdown",
   "id": "ce51fdaf-cf5a-4ef4-8557-e825b8849f81",
   "metadata": {
    "jp-MarkdownHeadingCollapsed": true
   },
   "source": [
    "## Transaction amount\n",
    "\n",
    "**Non-fraud transactions**\n",
    "- strong positive skewness\n",
    "- many records in range 40 - 70\n",
    "- lower median (~48)\n",
    "- lots of extremely high outliers\n",
    "\n",
    "**Frad transactions**\n",
    "- weak positive skewness\n",
    "- higher median (~400)\n",
    "- more even distribution\n",
    "\n",
    "### Features\n",
    "- transformed amt (power = 0.25)\n",
    "- transacion diff between current vlue and mean merchant value\n",
    "- transacion diff between current vlue and mean category value"
   ]
  },
  {
   "cell_type": "code",
   "execution_count": null,
   "id": "c0a2c662-b045-4f85-9495-38005685f3a6",
   "metadata": {},
   "outputs": [],
   "source": [
    "def show_histograms(dataframe, column: str, p = None):\n",
    "    hist_data = dataframe.select(column, \"is_fraud\").toPandas()\n",
    "    hist_data[column] = hist_data[column].astype(float)\n",
    "    hist_data[\"is_fraud\"] = hist_data[\"is_fraud\"].astype(int)\n",
    "\n",
    "    if p:\n",
    "        hist_data[column] = np.power(hist_data[column], p)\n",
    "    \n",
    "    px.histogram(\n",
    "        hist_data[hist_data[\"is_fraud\"] == 0],\n",
    "        x=column,\n",
    "        width=1000,\n",
    "        title=f\"<b>Fraud = False</b><br>Median = {hist_data[hist_data['is_fraud'] == 0][column].median()}\"\n",
    "    ).show()\n",
    "    px.histogram(\n",
    "        hist_data[hist_data[\"is_fraud\"] == 1],\n",
    "        x=column,\n",
    "        width=1000,\n",
    "        title=f\"<b>Fraud = True</b><br>Median = {hist_data[hist_data['is_fraud'] == 1][column].median()}\"\n",
    "    ).show()"
   ]
  },
  {
   "cell_type": "code",
   "execution_count": null,
   "id": "71b36369-5249-440f-bfe1-e3066c19bdf0",
   "metadata": {},
   "outputs": [],
   "source": [
    "show_histograms(train_df, \"amt\")"
   ]
  },
  {
   "cell_type": "markdown",
   "id": "7f6da2dd-28aa-4f5e-b3bf-705ece973cfd",
   "metadata": {},
   "source": [
    "### Transform distribution with power < 1"
   ]
  },
  {
   "cell_type": "code",
   "execution_count": null,
   "id": "224cce9c-d595-4009-9fcc-e54362340f46",
   "metadata": {},
   "outputs": [],
   "source": [
    "show_histograms(train_df, \"amt\", 0.25)"
   ]
  },
  {
   "cell_type": "code",
   "execution_count": null,
   "id": "a1715c9c-26f6-436b-9a5f-65068d2ebf99",
   "metadata": {},
   "outputs": [],
   "source": [
    "def transform_amt(dataframe, power):\n",
    "    dataframe = dataframe.withColumn(\"amt\", spark_func.col(\"amt\").cast(\"float\"))\n",
    "    dataframe = dataframe.withColumn(\"amt_even\", spark_func.power(dataframe[\"amt\"], power))\n",
    "\n",
    "    # diff between categorical features\n",
    "    for col in [\"merchant\", \"category\", \"gender\", \"state\", \"city\"]:\n",
    "        dataframe = dataframe.join(\n",
    "            dataframe.groupBy(\"merchant\").agg(spark_func.mean(\"amt_even\").alias(f\"mean_{col}_amt\")), \n",
    "            on=\"merchant\", \n",
    "            how=\"right\"\n",
    "        )\n",
    "        dataframe = dataframe.withColumn(f\"amt_{col}_diff\", spark_func.col(\"amt_even\") - spark_func.col(f\"mean_{col}_amt\"))\n",
    "\n",
    "    return dataframe"
   ]
  },
  {
   "cell_type": "code",
   "execution_count": null,
   "id": "12ff6ad1-b4b6-4312-8d66-65367b58b81c",
   "metadata": {},
   "outputs": [],
   "source": [
    "train_df = transform_amt(train_df, 0.25)\n",
    "train_df.select(\n",
    "    \"amt\", \"amt_even\",\n",
    "    \"amt_merchant_diff\", \n",
    "    \"amt_category_diff\", \n",
    "    \"amt_gender_diff\", \n",
    "    \"amt_state_diff\", \n",
    "    \"amt_city_diff\",\n",
    ").show()"
   ]
  },
  {
   "cell_type": "markdown",
   "id": "db1c8f00-3a96-46b0-8301-443798eccac4",
   "metadata": {},
   "source": [
    "## City population"
   ]
  },
  {
   "cell_type": "markdown",
   "id": "33da3dab-0fe1-42c9-9d41-43643c23e382",
   "metadata": {},
   "source": [
    "### Raw data\n",
    "- high positive skewness\n",
    "- both fraud nad non-fraud distributions look similair\n",
    "- Ccity_pop possibly won't be good single feature\n",
    "- but maybe it will interact with other"
   ]
  },
  {
   "cell_type": "code",
   "execution_count": null,
   "id": "387c795d-28e0-4e5b-946c-c47e4f423700",
   "metadata": {},
   "outputs": [],
   "source": [
    "show_histograms(train_df, \"city_pop\")"
   ]
  },
  {
   "cell_type": "markdown",
   "id": "e5820629-2580-4765-baeb-2b78907555f6",
   "metadata": {},
   "source": [
    "### Transform distribution"
   ]
  },
  {
   "cell_type": "code",
   "execution_count": null,
   "id": "28d896bd-a331-411e-9673-a49a3b33fa6e",
   "metadata": {},
   "outputs": [],
   "source": [
    "show_histograms(train_df, \"city_pop\", 0.3)"
   ]
  },
  {
   "cell_type": "markdown",
   "id": "23d2a7eb-2f24-49ab-9bd2-b8b68aa2a261",
   "metadata": {},
   "source": [
    "## Gender"
   ]
  },
  {
   "cell_type": "code",
   "execution_count": null,
   "id": "8636ef81-f507-4e80-be56-c4e39352fbe4",
   "metadata": {},
   "outputs": [],
   "source": [
    "train_df.select(\"gender\").distinct().show()"
   ]
  },
  {
   "cell_type": "code",
   "execution_count": null,
   "id": "58fe97c5-403b-4e1c-a8d1-bd2c3f9771b2",
   "metadata": {},
   "outputs": [],
   "source": [
    "train_df = train_df.withColumn(\n",
    "    \"is_male\",\n",
    "    spark_func.when(train_df[\"gender\"] == \"M\", 1).otherwise(0)\n",
    ")"
   ]
  },
  {
   "cell_type": "markdown",
   "id": "2cd731f5-143a-42c8-a740-79c23fba9d2f",
   "metadata": {},
   "source": [
    "## Geo Location"
   ]
  },
  {
   "cell_type": "code",
   "execution_count": null,
   "id": "e62457fa-673a-4c7e-a387-e41ce29d4a43",
   "metadata": {},
   "outputs": [],
   "source": [
    "graph_data = (\n",
    "    train_df\n",
    "    .orderBy(spark_func.rand())\n",
    "    .limit(10**4)\n",
    "    .select(\"lat\", \"long\", \"merch_lat\", \"merch_long\", \"is_fraud\")\n",
    "    .toPandas()\n",
    ")"
   ]
  },
  {
   "cell_type": "code",
   "execution_count": null,
   "id": "b32fa809-f63c-46f5-bdad-4a0d4c38556e",
   "metadata": {},
   "outputs": [],
   "source": [
    "graph_data[\"lat\"] = graph_data[\"lat\"].astype(float)\n",
    "graph_data[\"long\"] = graph_data[\"long\"].astype(float)\n",
    "graph_data[\"merch_lat\"] = graph_data[\"merch_lat\"].astype(float)\n",
    "graph_data[\"merch_long\"] = graph_data[\"merch_long\"].astype(float)\n",
    "graph_data[\"is_fraud\"] = graph_data[\"is_fraud\"].astype(int)"
   ]
  },
  {
   "cell_type": "code",
   "execution_count": null,
   "id": "4efc5284-84d5-49bc-8a0e-998d6d2ffa90",
   "metadata": {},
   "outputs": [],
   "source": [
    "def map_figure(graph_data, col_long, col_lat, title):\n",
    "    fig = go.Figure()\n",
    "    \n",
    "    current_df = graph_data[graph_data[\"is_fraud\"] == 0]\n",
    "    fig.add_trace(\n",
    "        go.Scattergeo(\n",
    "            name=\"Fraud = False\",\n",
    "            lon=current_df[col_long],\n",
    "            lat=current_df[col_lat],\n",
    "            mode=\"markers\",\n",
    "            marker=dict(\n",
    "                size=5,\n",
    "                color=\"green\"\n",
    "            ),\n",
    "            opacity=0.3\n",
    "        )\n",
    "    )\n",
    "    fig.add_trace(\n",
    "        go.Scattergeo(\n",
    "            name=\"Mean geo location: Fraud = False\",\n",
    "            lon=[current_df[col_long].median()],\n",
    "            lat=[current_df[col_lat].median()],\n",
    "            mode=\"markers\",\n",
    "            marker=dict(\n",
    "                size=10,\n",
    "                color=\"green\",\n",
    "                symbol=\"square\",\n",
    "                line=dict(\n",
    "                    color=\"black\",\n",
    "                    width=2\n",
    "                )\n",
    "            )\n",
    "        )\n",
    "    )\n",
    "    \n",
    "    current_df = graph_data[graph_data[\"is_fraud\"] == 1]\n",
    "    fig.add_trace(\n",
    "        go.Scattergeo(\n",
    "            name=\"Fraud = True\",\n",
    "            lon=current_df[col_long],\n",
    "            lat=current_df[col_lat],\n",
    "            mode=\"markers\",\n",
    "            marker=dict(\n",
    "                size=5,\n",
    "                color=\"red\"\n",
    "            ),\n",
    "            opacity=0.3\n",
    "        )\n",
    "    )\n",
    "    fig.add_trace(\n",
    "        go.Scattergeo(\n",
    "            name=\"Mean geo location: Fraud = True\",\n",
    "            lon=[current_df[col_long].median()],\n",
    "            lat=[current_df[col_lat].median()],\n",
    "            mode=\"markers\",\n",
    "            marker=dict(\n",
    "                size=10,\n",
    "                color=\"red\",\n",
    "                symbol=\"square\",\n",
    "                line=dict(\n",
    "                    color=\"black\",\n",
    "                    width=2\n",
    "                )\n",
    "            )\n",
    "        )\n",
    "    )\n",
    "    \n",
    "    fig.update_layout(\n",
    "        width=1000,\n",
    "        title=title\n",
    "    )\n",
    "    \n",
    "    fig.show()"
   ]
  },
  {
   "cell_type": "code",
   "execution_count": null,
   "id": "90dadb96-d8ed-4fef-98ec-d7dae3b9e6a9",
   "metadata": {},
   "outputs": [],
   "source": [
    "map_figure(graph_data, \"long\", \"lat\", \"Card holder geolocation\")"
   ]
  },
  {
   "cell_type": "code",
   "execution_count": null,
   "id": "22256b90-1021-49d7-b096-9a65d55a362d",
   "metadata": {},
   "outputs": [],
   "source": [
    "map_figure(graph_data, \"merch_long\", \"merch_lat\", \"Merchant geolocation\")"
   ]
  },
  {
   "cell_type": "code",
   "execution_count": null,
   "id": "ad4c5c0b-d3e6-47a3-8d5e-5d62a7c3bf1b",
   "metadata": {},
   "outputs": [],
   "source": []
  }
 ],
 "metadata": {
  "kernelspec": {
   "display_name": "venv",
   "language": "python",
   "name": "python3"
  },
  "language_info": {
   "codemirror_mode": {
    "name": "ipython",
    "version": 3
   },
   "file_extension": ".py",
   "mimetype": "text/x-python",
   "name": "python",
   "nbconvert_exporter": "python",
   "pygments_lexer": "ipython3",
   "version": "3.12.1"
  }
 },
 "nbformat": 4,
 "nbformat_minor": 5
}
